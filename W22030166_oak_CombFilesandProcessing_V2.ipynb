{
 "cells": [
  {
   "cell_type": "code",
   "execution_count": 22,
   "id": "initial_id",
   "metadata": {
    "ExecuteTime": {
     "end_time": "2024-04-30T09:44:21.469458Z",
     "start_time": "2024-04-30T09:44:21.466263Z"
    },
    "collapsed": true
   },
   "outputs": [],
   "source": [
    "#import pandas as pd\n",
    "import numpy as np\n",
    "import os\n",
    "#import glob\n",
    "import pywt\n",
    "from scipy.stats import skew, kurtosis, entropy\n",
    "import matplotlib.pyplot as plt\n",
    "%matplotlib inline\n",
    "plt.rcParams['axes.grid'] = False\n"
   ]
  },
  {
   "cell_type": "code",
   "execution_count": 2,
   "id": "dfe4f66bebccdcda",
   "metadata": {
    "ExecuteTime": {
     "end_time": "2024-04-23T05:05:19.773081Z",
     "start_time": "2024-04-23T05:05:19.770722Z"
    }
   },
   "outputs": [],
   "source": [
    "#Define some parameters\n",
    "sampling_rate = 512.0  # Sampling rate of EEG data (Hz)\n",
    "epoch_duration_seconds = 20  # Duration of each epoch in seconds\n",
    "overlap_seconds = 10  # Overlap between consecutive epochs in seconds\n",
    "\n",
    "# Calculate the number of samples for epoch_duration\n",
    "epoch_duration = int(epoch_duration_seconds * sampling_rate)\n",
    "\n",
    "# Calculate the number of samples for overlap\n",
    "overlap = int(overlap_seconds * sampling_rate)"
   ]
  },
  {
   "cell_type": "code",
   "execution_count": 3,
   "id": "463241beb2adabca",
   "metadata": {
    "ExecuteTime": {
     "end_time": "2024-04-23T05:05:20.485439Z",
     "start_time": "2024-04-23T05:05:20.482680Z"
    }
   },
   "outputs": [],
   "source": [
    "def generate_epoch(data):\n",
    "    # Calculate the number of epochs\n",
    "    num_epochs = (len(data) - epoch_duration) // (epoch_duration - overlap) + 1\n",
    "\n",
    "    # Segment EEG data into epochs\n",
    "    epochs = []\n",
    "    for i in range(num_epochs):\n",
    "        start_idx = i * (epoch_duration - overlap)\n",
    "        end_idx = start_idx + epoch_duration\n",
    "        epoch = data[start_idx:end_idx]\n",
    "        epochs.append(epoch)\n",
    "\n",
    "    # Convert list of epochs to numpy array\n",
    "    return np.array(epochs)"
   ]
  },
  {
   "cell_type": "code",
   "execution_count": 4,
   "id": "89e158ef7baa9eb",
   "metadata": {
    "ExecuteTime": {
     "end_time": "2024-04-23T05:05:21.064323Z",
     "start_time": "2024-04-23T05:05:21.058292Z"
    }
   },
   "outputs": [],
   "source": [
    "# Define a function to calculate Hjorth parameters\n",
    "def hjorth_parameters(epoch):\n",
    "    activity = np.var(epoch)  # Activity\n",
    "    mobility = np.sqrt(np.var(np.diff(epoch)) / activity) if activity != 0 else 0  # Mobility\n",
    "    complexity = (np.sqrt(np.var(np.diff(np.diff(epoch))) / np.var(np.diff(epoch)))) / mobility if mobility != 0 else 0  # Complexity\n",
    "    return activity, mobility, complexity\n",
    "\n",
    "# Define a function to calculate Slope Sign Change (SSC)\n",
    "def slope_sign_change(epoch):\n",
    "    ssc = np.sum(np.diff(np.sign(np.diff(epoch))) != 0)  # Slope Sign Change\n",
    "    return ssc\n",
    "\n",
    "def calculate_crest_factor(epoch):\n",
    "    rms = np.sqrt(np.mean(epoch**2))\n",
    "    max_amplitude = np.max(epoch)\n",
    "    if rms != 0:\n",
    "        return max_amplitude / rms\n",
    "    else:\n",
    "        return 0.0  # Return 0 if RMS is zero\n",
    "\n",
    "def calculate_entropy(epoch):\n",
    "    non_zero_epoch = epoch[epoch != 0]  # Exclude zero values from epoch\n",
    "    if len(non_zero_epoch) > 0:\n",
    "        return entropy(non_zero_epoch)\n",
    "    else:\n",
    "        return 0.0  # Return 0 if no non-zero values\n",
    "    \n",
    "# Define a function to extract time-domain features from EEG epochs\n",
    "def extract_time_domain_features(epochs):\n",
    "    features = []\n",
    "    for epoch in epochs:\n",
    "        # Calculate time-domain features\n",
    "        mean_amplitude = np.mean(epoch)  # Mean amplitude\n",
    "        std_amplitude = np.std(epoch)  # Standard deviation of amplitude\n",
    "        max_amplitude = np.max(epoch)  # Maximum amplitude\n",
    "        min_amplitude = np.min(epoch)  # Minimum amplitude\n",
    "        median_amplitude = np.median(epoch)  # Median amplitude\n",
    "        range_amplitude = max_amplitude - min_amplitude  # Range of amplitude\n",
    "        \n",
    "        # Additional time-domain features\n",
    "        skewness = skew(epoch)  # Skewness\n",
    "        kurt = kurtosis(epoch)  # Kurtosis\n",
    "        rms = np.sqrt(np.mean(epoch**2))  # Root Mean Square\n",
    "        zcr = np.mean(np.diff(np.sign(epoch)))  # Zero Crossing Rate\n",
    "        waveform_length = np.sum(np.abs(np.diff(epoch)))  # Waveform Length\n",
    "        energy = np.sum(epoch**2)  # Signal Energy\n",
    "        \n",
    "        # Crest Factor\n",
    "        crest_factor = calculate_crest_factor(epoch)\n",
    "        \n",
    "        # Hjorth parameters\n",
    "        activity, mobility, complexity = hjorth_parameters(epoch)\n",
    "        \n",
    "        # Slope Sign Change (SSC)\n",
    "        ssc = slope_sign_change(epoch)\n",
    "        \n",
    "        # Mean Absolute Value (MAV)\n",
    "        mav = np.mean(np.abs(epoch))\n",
    "        \n",
    "        # Time-domain entropy\n",
    "        entropy_value = calculate_entropy(epoch)\n",
    "        \n",
    "        \n",
    "        # Append features to the list\n",
    "        features.append([mean_amplitude, std_amplitude, max_amplitude, min_amplitude, median_amplitude, range_amplitude,\n",
    "                         skewness, kurt, rms, zcr, waveform_length, energy, crest_factor,\n",
    "                         activity, mobility, complexity, ssc, mav,entropy_value])\n",
    "\n",
    "    return np.array(features)"
   ]
  },
  {
   "cell_type": "code",
   "execution_count": 5,
   "id": "39e58257da1ec1f9",
   "metadata": {
    "ExecuteTime": {
     "end_time": "2024-04-23T05:05:21.830383Z",
     "start_time": "2024-04-23T05:05:21.826413Z"
    }
   },
   "outputs": [],
   "source": [
    "#LOADING EEG DATA AND PROCESSING\n",
    "def load_data_process(data_path):\n",
    "    # #Total Missing Value\n",
    "    total_missing=0\n",
    "\n",
    "    #Baseline EEG\n",
    "    all_eeg=[]\n",
    "\n",
    "    # List all files in the baseline directory\n",
    "    files_list = os.listdir(data_path)\n",
    "\n",
    "    # Iterate over each file\n",
    "    for filename in files_list:\n",
    "        # Check if the filename starts with \"ID#\"\n",
    "        if filename.startswith(\"ID#\"):\n",
    "            # Construct the full file path\n",
    "            file_path = os.path.join(data_path, filename)\n",
    "            # Check if the item in the directory is a file\n",
    "            if os.path.isfile(file_path):\n",
    "                # Open the file and read its contents\n",
    "                with open(file_path, 'r') as file:\n",
    "                    eeg_data = np.loadtxt(file, delimiter=' ')\n",
    "            \n",
    "                    # Decompose EEG data using wavelet transform\n",
    "                    coeffs = pywt.wavedec(eeg_data, wavelet='db4', level=5)\n",
    "                    # Reconstruct filtered EEG data\n",
    "                    filtered_eeg = pywt.waverec(coeffs, wavelet='db4')\n",
    "                      \n",
    "                    #Generating Epochs\n",
    "                    epochs = generate_epoch(filtered_eeg)\n",
    "            \n",
    "                    #Feature Extraction\n",
    "                    time_domain_feature= extract_time_domain_features(epochs)\n",
    "            \n",
    "                    #Missing Value Analysis and Removal\n",
    "                    total_missing=total_missing+np.isnan(time_domain_feature).sum()\n",
    "                    missing_td_feature = np.isnan(time_domain_feature).any(axis=1)\n",
    "                    \n",
    "                    # Drop rows with missing values\n",
    "                    cleaned_td_feature = time_domain_feature[~missing_td_feature]\n",
    "            \n",
    "                    #Combine all the baseline processed data\n",
    "                    all_eeg.append(cleaned_td_feature)\n",
    "\n",
    "    # Convert the list of baseline EEG to a single NumPy array\n",
    "    return np.concatenate(all_eeg, axis=0), total_missing"
   ]
  },
  {
   "cell_type": "code",
   "execution_count": 6,
   "id": "37234f431238dd3b",
   "metadata": {
    "ExecuteTime": {
     "end_time": "2024-04-23T05:27:05.942398Z",
     "start_time": "2024-04-23T05:05:23.062260Z"
    }
   },
   "outputs": [
    {
     "name": "stderr",
     "output_type": "stream",
     "text": [
      "/tmp/ipykernel_31725/375858973.py:41: RuntimeWarning: Precision loss occurred in moment calculation due to catastrophic cancellation. This occurs when the data are nearly identical. Results may be unreliable.\n",
      "  skewness = skew(epoch)  # Skewness\n",
      "/tmp/ipykernel_31725/375858973.py:42: RuntimeWarning: Precision loss occurred in moment calculation due to catastrophic cancellation. This occurs when the data are nearly identical. Results may be unreliable.\n",
      "  kurt = kurtosis(epoch)  # Kurtosis\n"
     ]
    },
    {
     "data": {
      "text/plain": [
       "(584925, 19)"
      ]
     },
     "execution_count": 6,
     "metadata": {},
     "output_type": "execute_result"
    }
   ],
   "source": [
    "# Define the directory path where the files are located\n",
    "baseline_dir = '/Users/oak/Downloads/Data_Set/Baseline/'\n",
    "concat_baseline_eeg, total_missing=load_data_process(baseline_dir)\n",
    "concat_baseline_eeg.shape"
   ]
  },
  {
   "cell_type": "code",
   "execution_count": 7,
   "id": "fe2e77694864e77f",
   "metadata": {
    "ExecuteTime": {
     "end_time": "2024-04-23T05:27:05.945188Z",
     "start_time": "2024-04-23T05:27:05.943248Z"
    }
   },
   "outputs": [
    {
     "name": "stdout",
     "output_type": "stream",
     "text": [
      "Total missing values: 1442\n"
     ]
    }
   ],
   "source": [
    "#Print Total missing value removed\n",
    "print('Total missing values:', total_missing)"
   ]
  },
  {
   "cell_type": "code",
   "execution_count": 8,
   "id": "e70076d47d28eb33",
   "metadata": {
    "ExecuteTime": {
     "end_time": "2024-04-23T05:27:06.025808Z",
     "start_time": "2024-04-23T05:27:05.945813Z"
    }
   },
   "outputs": [],
   "source": [
    "np.save('/Users/oak/Downloads/Data_Set/Processed_egg/Baseline_eeg.npy', concat_baseline_eeg)"
   ]
  },
  {
   "cell_type": "code",
   "execution_count": 11,
   "id": "2cfb6add25029097",
   "metadata": {
    "ExecuteTime": {
     "end_time": "2024-04-23T05:58:12.145425Z",
     "start_time": "2024-04-23T05:27:06.059935Z"
    }
   },
   "outputs": [
    {
     "name": "stderr",
     "output_type": "stream",
     "text": [
      "/tmp/ipykernel_31725/375858973.py:41: RuntimeWarning: Precision loss occurred in moment calculation due to catastrophic cancellation. This occurs when the data are nearly identical. Results may be unreliable.\n",
      "  skewness = skew(epoch)  # Skewness\n",
      "/tmp/ipykernel_31725/375858973.py:42: RuntimeWarning: Precision loss occurred in moment calculation due to catastrophic cancellation. This occurs when the data are nearly identical. Results may be unreliable.\n",
      "  kurt = kurtosis(epoch)  # Kurtosis\n"
     ]
    },
    {
     "data": {
      "text/plain": [
       "(834915, 19)"
      ]
     },
     "execution_count": 11,
     "metadata": {},
     "output_type": "execute_result"
    }
   ],
   "source": [
    "# Define the directory path where the files are located\n",
    "epilepto_dir = '/Users/oak/Downloads/Data_Set/Epileptogenesis'\n",
    "concat_epile_eeg, total_missing=load_data_process(epilepto_dir)\n",
    "concat_epile_eeg.shape"
   ]
  },
  {
   "cell_type": "code",
   "execution_count": 12,
   "id": "7927459240f7fc90",
   "metadata": {
    "ExecuteTime": {
     "end_time": "2024-04-23T05:58:12.148073Z",
     "start_time": "2024-04-23T05:58:12.146160Z"
    }
   },
   "outputs": [
    {
     "name": "stdout",
     "output_type": "stream",
     "text": [
      "Total missing values: 910\n"
     ]
    }
   ],
   "source": [
    "#Print Total missing value removed\n",
    "print('Total missing values:', total_missing)"
   ]
  },
  {
   "cell_type": "code",
   "execution_count": null,
   "id": "1217dc16f275ca82",
   "metadata": {},
   "outputs": [],
   "source": [
    "np.save('/Users/oak/Downloads/Data_Set/Processed_egg/Epilepto_eeg.npy', concat_epile_eeg)"
   ]
  }
 ],
 "metadata": {
  "kernelspec": {
   "display_name": "Python 3 (ipykernel)",
   "language": "python",
   "name": "python3"
  },
  "language_info": {
   "codemirror_mode": {
    "name": "ipython",
    "version": 3
   },
   "file_extension": ".py",
   "mimetype": "text/x-python",
   "name": "python",
   "nbconvert_exporter": "python",
   "pygments_lexer": "ipython3",
   "version": "3.10.9"
  }
 },
 "nbformat": 4,
 "nbformat_minor": 5
}
